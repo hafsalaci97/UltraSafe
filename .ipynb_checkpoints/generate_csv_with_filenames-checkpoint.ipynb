{
 "cells": [
  {
   "cell_type": "code",
   "execution_count": null,
   "id": "a850eec4-899b-49d2-8fea-f06809e413ae",
   "metadata": {},
   "outputs": [],
   "source": [
    "import os\n",
    "import csv\n",
    "import xmltodict\n",
    "import pandas as pd\n",
    "all_valid_images_path = 'C:/Users/User/Desktop/dataset_creation/image_validity/all_valid_images'\n",
    "filenames_csv_path = 'us_img_filenames.csv'\n",
    "\n",
    "def generate_csv_with_filenames(valid_img_folder, filenames_csv):\n",
    "    us_img_filenames = []\n",
    "\n",
    "    for imgfilename in os.listdir(valid_img_folder):\n",
    "        if imgfilename.lower().endswith(('.tiff', '.tif')):\n",
    "            us_img_filenames.append(imgfilename)\n",
    "\n",
    "    with open(filenames_csv, 'w', newline='') as csvfile:\n",
    "        writer = csv.writer(csvfile)\n",
    "        for image_filename in us_img_filenames:\n",
    "            writer.writerow([image_filename])\n",
    "\n",
    "    print(f\"Image filenames extracted and saved to {filenames_csv}\")\n",
    "\n",
    "generate_csv_with_filenames(all_valid_images_path, filenames_csv_path)"
   ]
  },
  {
   "cell_type": "code",
   "execution_count": null,
   "id": "5d7e4e0d-1bbf-4bd2-bcf1-35ecc98af05c",
   "metadata": {},
   "outputs": [],
   "source": [
    "all_filenames = 'C:/Users/User/Desktop/dataset_creation/us_img_filenames.csv'\n",
    "all_xml_folder = 'C:/Users/User/Desktop/dataset_creation/image_validity/xml_files'\n",
    "patient_data_csv = 'patient_data.csv'\n",
    "\n",
    "def create_csv_of_jsons(csv_input_file, xml_input_folder, csv_output_file):\n",
    "    with open(csv_input_file, 'r') as csvinput:\n",
    "        file_reader = csv.reader(csvinput)\n",
    "        csv_entries = [row[0] for row in file_reader]\n",
    "\n",
    "    csv_rows_array = []\n",
    "\n",
    "    for entry in csv_entries:\n",
    "        for xml_filename in os.listdir(xml_input_folder):\n",
    "            if xml_filename.lower().endswith('.xml'):\n",
    "                xml_path = os.path.join(xml_input_folder, xml_filename)\n",
    "                with open(xml_path, 'r', encoding='utf-8') as xml_file:\n",
    "                    xml_data = xml_file.read()\n",
    "                    if entry in xml_data:\n",
    "                        json_data = convert_xml_to_json(xml_path)\n",
    "                        csv_row = convert_json_to_csv_row(json_data, entry)\n",
    "                        csv_rows_array.append(csv_row)\n",
    "                        break\n",
    "\n",
    "    if csv_rows_array:\n",
    "        df = pd.DataFrame(csv_rows_array)\n",
    "        df.to_csv(csv_output_file, index=False, encoding='utf-8')\n",
    "\n",
    "    print(f\"The final results are saved to {csv_output_file}\")\n",
    "    \n",
    "def convert_xml_to_json(xml_path):\n",
    "    with open(xml_path, 'r', encoding='utf-8') as xml_file:\n",
    "        xml_data = xml_file.read()\n",
    "        json_data = xmltodict.parse(xml_data)\n",
    "    return json_data\n",
    "\n",
    "def convert_json_to_csv_row(json_data, filename):\n",
    "    flat_json = pd.json_normalize(json_data)\n",
    "    flat_json['filename'] = filename\n",
    "    return flat_json.to_dict(orient='records')[0]\n",
    "\n",
    "create_csv_of_jsons(all_filenames, all_xml_folder, patient_data_csv)"
   ]
  }
 ],
 "metadata": {
  "kernelspec": {
   "display_name": "imageclassification",
   "language": "python",
   "name": "imageclassification"
  },
  "language_info": {
   "codemirror_mode": {
    "name": "ipython",
    "version": 3
   },
   "file_extension": ".py",
   "mimetype": "text/x-python",
   "name": "python",
   "nbconvert_exporter": "python",
   "pygments_lexer": "ipython3",
   "version": "3.11.7"
  }
 },
 "nbformat": 4,
 "nbformat_minor": 5
}
