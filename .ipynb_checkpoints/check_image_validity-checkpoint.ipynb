{
 "cells": [
  {
   "cell_type": "code",
   "execution_count": 14,
   "id": "2990f98c-a4c1-40fb-93ab-db4388790f65",
   "metadata": {},
   "outputs": [],
   "source": [
    "import cv2\n",
    "import os\n",
    "import shutil\n",
    "import pytesseract\n",
    "\n",
    "pytesseract.pytesseract.tesseract_cmd = r'C:\\Program Files\\Tesseract-OCR\\tesseract.exe'\n",
    "\n",
    "all_siemens_images = 'C:/Users/User/Desktop/dataset_creation/image_validity/all_siemens_images'\n",
    "all_nonvalid_images = 'C:/Users/User/Desktop/dataset_creation/image_validity/all_nonvalid_images'\n",
    "all_valid_images = 'C:/Users/User/Desktop/dataset_creation/image_validity/all_valid_images'\n",
    "kb_img_sizelimit = 2000\n",
    "check_for_text = [\"Report\", \"Early OB Report\", \"OB Report\", \"GYN Report\", \"Fetal Echo Report\"]\n",
    "\n",
    "def store_valid_images(all_siemens_images, all_nonvalid_images, all_valid_images, kb_img_sizelimit, check_for_text):\n",
    "    if not os.path.exists(all_nonvalid_images):\n",
    "        os.makedirs(all_nonvalid_images)\n",
    "    if not os.path.exists(all_valid_images):\n",
    "        os.makedirs(all_valid_images)\n",
    "\n",
    "    for filename in os.listdir(all_siemens_images):\n",
    "        if filename.lower().endswith(('.tiff', '.tif')):\n",
    "            img_path = os.path.join(all_siemens_images, filename)\n",
    "            if img_validity(img_path, kb_img_sizelimit, check_for_text):\n",
    "                shutil.move(img_path, os.path.join(all_nonvalid_images, filename))\n",
    "            else:\n",
    "                shutil.move(img_path, os.path.join(all_valid_images, filename))\n",
    "\n",
    "def img_validity(img_path, kb_img_sizelimit, check_for_text):\n",
    "    img_size_kb = os.path.getsize(img_path) / 1024  \n",
    "    if img_size_kb > kb_img_sizelimit:\n",
    "        image = cv2.imread(img_path, cv2.IMREAD_GRAYSCALE)\n",
    "        if image is None:\n",
    "            print(f\"This code failed to read {img_path}\")\n",
    "            return False     \n",
    "        txt = pytesseract.image_to_string(image)\n",
    "        for text_to_check in check_for_text:\n",
    "            if text_to_check in txt:\n",
    "                return True        \n",
    "        return False  \n",
    "    return False \n",
    "\n",
    "store_valid_images(all_siemens_images, all_nonvalid_images, all_valid_images, kb_img_sizelimit, check_for_text)"
   ]
  },
  {
   "cell_type": "code",
   "execution_count": null,
   "id": "6163db5f-48fa-45d6-bb1d-dfeafbd45e29",
   "metadata": {},
   "outputs": [],
   "source": []
  }
 ],
 "metadata": {
  "kernelspec": {
   "display_name": "imageclassification",
   "language": "python",
   "name": "imageclassification"
  },
  "language_info": {
   "codemirror_mode": {
    "name": "ipython",
    "version": 3
   },
   "file_extension": ".py",
   "mimetype": "text/x-python",
   "name": "python",
   "nbconvert_exporter": "python",
   "pygments_lexer": "ipython3",
   "version": "3.11.7"
  }
 },
 "nbformat": 4,
 "nbformat_minor": 5
}
