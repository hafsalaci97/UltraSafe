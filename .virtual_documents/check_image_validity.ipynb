import cv2
import os
import shutil
import pytesseract

pytesseract.pytesseract.tesseract_cmd = r'C:\Program Files\Tesseract-OCR\tesseract.exe'

all_siemens_images = 'C:/Users/User/Desktop/dataset_creation/image_validity/all_siemens_images'
all_nonvalid_images = 'C:/Users/User/Desktop/dataset_creation/image_validity/all_nonvalid_images'
all_valid_images = 'C:/Users/User/Desktop/dataset_creation/image_validity/all_valid_images'
kb_img_sizelimit = 2000
check_for_text = ["Report", "Early OB Report", "OB Report", "GYN Report", "Fetal Echo Report"]

def store_valid_images(all_siemens_images, all_nonvalid_images, all_valid_images, kb_img_sizelimit, check_for_text):
    if not os.path.exists(all_nonvalid_images):
        os.makedirs(all_nonvalid_images)
    if not os.path.exists(all_valid_images):
        os.makedirs(all_valid_images)

    for filename in os.listdir(all_siemens_images):
        if filename.lower().endswith(('.tiff', '.tif')):
            img_path = os.path.join(all_siemens_images, filename)
            if img_validity(img_path, kb_img_sizelimit, check_for_text):
                shutil.move(img_path, os.path.join(all_nonvalid_images, filename))
            else:
                shutil.move(img_path, os.path.join(all_valid_images, filename))

def img_validity(img_path, kb_img_sizelimit, check_for_text):
    img_size_kb = os.path.getsize(img_path) / 1024  
    if img_size_kb > kb_img_sizelimit:
        image = cv2.imread(img_path, cv2.IMREAD_GRAYSCALE)
        if image is None:
            print(f"This code failed to read {img_path}")
            return False     
        txt = pytesseract.image_to_string(image)
        for text_to_check in check_for_text:
            if text_to_check in txt:
                return True        
        return False  
    return False 

store_valid_images(all_siemens_images, all_nonvalid_images, all_valid_images, kb_img_sizelimit, check_for_text)



