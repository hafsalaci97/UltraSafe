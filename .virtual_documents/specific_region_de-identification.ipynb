import cv2
import pytesseract
import os
import json
from PIL import Image, ImageDraw, ImageFont
from concurrent.futures import ThreadPoolExecutor
import logging
from cryptography.fernet import Fernet

logging.basicConfig(level=logging.INFO)
pytesseract.pytesseract.tesseract_cmd = r'C:\Program Files\Tesseract-OCR\tesseract.exe'

encryption_key = Fernet.generate_key()
handle_encryption = Fernet(encryption_key)

all_valid_images = 'C:/Users/User/Desktop/dataset_creation/image_validity/all_valid_images'
deidentified_valid_images = 'C:/Users/User/Desktop/dataset_creation/deidentification_reidentification/deidentified_valid_images'
reidentified_valid_images = 'C:/Users/User/Desktop/dataset_creation/deidentification_reidentification/reidentified_valid_images'

def handle_image_processing(all_valid_images, deidentified_valid_images, reidentified_valid_images):
    if not os.path.exists(deidentified_valid_images):
        os.makedirs(deidentified_valid_images)
    if not os.path.exists(reidentified_valid_images):
        os.makedirs(reidentified_valid_images)
    
    for filename in os.listdir(all_valid_images):
        if filename.lower().endswith(('.tif')):
            valid_image_location = os.path.join(all_valid_images, filename)
            deidentification_location = os.path.join(deidentified_valid_images, filename)
            image_metadata_filename = os.path.splitext(filename)[0] + '.json'
            image_metadata_location = os.path.join(reidentified_valid_images, image_metadata_filename)

            image_deidentification(valid_image_location, deidentification_location, image_metadata_location)
            image_reidentification(deidentification_location, image_metadata_location, os.path.join(reidentified_valid_images, 'reidentified_' + filename))
            
def image_deidentification(valid_image_location, deidentification_location, image_metadata_location):
    img = cv2.imread(valid_image_location)
    if img is None:
        logging.error(f"There was an error while loading the img: {valid_image_location}")
        return
    
    h, w, _ = img.shape
    
    region_T = img[0:int(0.09*h), :]  
    region_L = img[int(0.083*h):, 0:int(0.14*w)]  
    region_B = img[int(0.84*h):, :]  
    
    array_of_metadata = []

    def preprocessing_of_specific_regions(txt_information, offset_x=0, offset_y=0):
        nonlocal img
        for i in range(len(txt_information['level'])):
            x, y, width, height, text = txt_information['left'][i], txt_information['top'][i], txt_information['width'][i], txt_information['height'][i], txt_information['text'][i]
            if text.strip():
                array_of_metadata.append({'text': text, 'coords': (x + offset_x, y + offset_y, width, height)})
                img = cv2.rectangle(img, (x + offset_x, y + offset_y), (x + offset_x + width, y + offset_y + height), (255, 255, 255), -1)
                
    preproc_region_T = blurry_information(region_T)
    preproc_region_L = blurry_information(region_L)
    preproc_region_B = blurry_information(region_B)

    custom_config = r'--oem 3 --psm 6'
    info_T = pytesseract.image_to_data(preproc_region_T, output_type=pytesseract.Output.DICT, config=custom_config)
    info_L = pytesseract.image_to_data(preproc_region_L, output_type=pytesseract.Output.DICT, config=custom_config)
    info_B = pytesseract.image_to_data(preproc_region_B, output_type=pytesseract.Output.DICT, config=custom_config)

    preprocessing_of_specific_regions(info_T, 0, 0)
    preprocessing_of_specific_regions(info_L, 0, int(0.083*h))
    preprocessing_of_specific_regions(info_B, 0, int(0.84*h))

    cv2.imwrite(deidentification_location, img)
    store_encrypted_information(array_of_metadata, image_metadata_location)
        
def blurry_information(img):
    gray = cv2.cvtColor(img, cv2.COLOR_BGR2GRAY)
    _, thresh = cv2.threshold(gray, 150, 255, cv2.THRESH_BINARY + cv2.THRESH_OTSU)
    return thresh
    
def store_encrypted_information(array_of_metadata, image_metadata_location):
    encrypted_data = handle_encryption.encrypt(json.dumps(array_of_metadata).encode())
    with open(image_metadata_location, 'wb') as f:
        f.write(encrypted_data)

def image_reidentification(valid_image_location, image_metadata_location, deidentification_location):
    try:
        img = Image.open(valid_image_location).convert('RGB')
        draw = ImageDraw.Draw(img)
        txt_font = ImageFont.load_default()  
        
        array_of_metadata = load_encrypted_information(image_metadata_location)

        for metadata_item in array_of_metadata:
            text, (x, y, width, height) = metadata_item['text'], metadata_item['coords']
            draw.rectangle([x, y, x + width, y + height], outline="white", fill="white")
            draw.text((x, y), text, fill="black", font=txt_font)

        img.save(deidentification_location)
    except Exception as e:
        logging.error(f"There was an error while re-identifying the img: {e}")

def load_encrypted_information(image_metadata_location):
    with open(image_metadata_location, 'rb') as f:
        encrypted_data = f.read()
    decrypted_data = handle_encryption.decrypt(encrypted_data).decode()
    return json.loads(decrypted_data)
    
handle_image_processing(all_valid_images, deidentified_valid_images, reidentified_valid_images)




