import os
import csv
import xmltodict
import pandas as pd
all_valid_images_path = 'C:/Users/User/Desktop/dataset_creation/image_validity/all_valid_images'
filenames_csv_path = 'us_img_filenames.csv'

def generate_csv_with_filenames(valid_img_folder, filenames_csv):
    us_img_filenames = []

    for imgfilename in os.listdir(valid_img_folder):
        if imgfilename.lower().endswith(('.tiff', '.tif')):
            us_img_filenames.append(imgfilename)

    with open(filenames_csv, 'w', newline='') as csvfile:
        writer = csv.writer(csvfile)
        for image_filename in us_img_filenames:
            writer.writerow([image_filename])

    print(f"Image filenames extracted and saved to {filenames_csv}")

generate_csv_with_filenames(all_valid_images_path, filenames_csv_path)


all_filenames = 'C:/Users/User/Desktop/dataset_creation/us_img_filenames.csv'
all_xml_folder = 'C:/Users/User/Desktop/dataset_creation/image_validity/xml_files'
patient_data_csv = 'patient_data.csv'

def create_csv_of_jsons(csv_input_file, xml_input_folder, csv_output_file):
    with open(csv_input_file, 'r') as csvinput:
        file_reader = csv.reader(csvinput)
        csv_entries = [row[0] for row in file_reader]

    csv_rows_array = []

    for entry in csv_entries:
        for xml_filename in os.listdir(xml_input_folder):
            if xml_filename.lower().endswith('.xml'):
                xml_path = os.path.join(xml_input_folder, xml_filename)
                with open(xml_path, 'r', encoding='utf-8') as xml_file:
                    xml_data = xml_file.read()
                    if entry in xml_data:
                        json_data = convert_xml_to_json(xml_path)
                        csv_row = convert_json_to_csv_row(json_data, entry)
                        csv_rows_array.append(csv_row)
                        break

    if csv_rows_array:
        df = pd.DataFrame(csv_rows_array)
        df.to_csv(csv_output_file, index=False, encoding='utf-8')

    print(f"The final results are saved to {csv_output_file}")
    
def convert_xml_to_json(xml_path):
    with open(xml_path, 'r', encoding='utf-8') as xml_file:
        xml_data = xml_file.read()
        json_data = xmltodict.parse(xml_data)
    return json_data

def convert_json_to_csv_row(json_data, filename):
    flat_json = pd.json_normalize(json_data)
    flat_json['filename'] = filename
    return flat_json.to_dict(orient='records')[0]

create_csv_of_jsons(all_filenames, all_xml_folder, patient_data_csv)
